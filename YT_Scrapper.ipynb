{
 "cells": [
  {
   "cell_type": "code",
   "execution_count": 1,
   "metadata": {},
   "outputs": [],
   "source": [
    "from selenium import webdriver\n",
    "from selenium.webdriver.common.by import By\n",
    "from selenium.webdriver.chrome.service import Service\n",
    "from bs4 import BeautifulSoup\n",
    "import pandas as pd\n",
    "import time\n",
    "from selenium.webdriver.chrome.options import Options\n",
    "\n",
    "# Set Paths\n",
    "CHROMEDRIVER_PATH = \"C:/BraveDriver/chromedriver.exe\"  \n",
    "BRAVE_PATH = \"C:/Program Files/BraveSoftware/Brave-Browser/Application/brave.exe\"  \n"
   ]
  },
  {
   "cell_type": "code",
   "execution_count": 2,
   "metadata": {},
   "outputs": [],
   "source": [
    "# Setup Brave WebDriver\n",
    "options = Options()\n",
    "options.binary_location = BRAVE_PATH  \n",
    "options.add_argument(\"--headless\")  \n",
    "service = Service(CHROMEDRIVER_PATH)\n",
    "driver = webdriver.Chrome(service=service, options=options)"
   ]
  },
  {
   "cell_type": "code",
   "execution_count": 3,
   "metadata": {},
   "outputs": [],
   "source": [
    "# Open YouTube Trending Page\n",
    "url = \"https://www.youtube.com/results?search_query=finance&sp=CAM%253D\"  \n",
    "driver.get(url)\n",
    "time.sleep(5)  # Allow time to load\n",
    "\n",
    "# Parse with BeautifulSoup\n",
    "soup = BeautifulSoup(driver.page_source, \"html.parser\")\n",
    "\n",
    "# Extract Video Data\n",
    "videos = soup.find_all(\"ytd-video-renderer\", class_=\"style-scope ytd-item-section-renderer\")\n"
   ]
  },
  {
   "cell_type": "code",
   "execution_count": 4,
   "metadata": {},
   "outputs": [],
   "source": [
    "data = []\n",
    "for video in videos:\n",
    "    # Title\n",
    "    title_tag = video.find(\"a\", id=\"video-title\")\n",
    "    title = title_tag.text.strip() if title_tag else \"No Title\"\n",
    "\n",
    "    # Views\n",
    "    views_tag = video.find_all(\"span\", class_=\"inline-metadata-item style-scope ytd-video-meta-block\")\n",
    "    views = views_tag[0].text.strip().replace(\"views\", \"\").replace(\",\", \"\") if views_tag else \"0\"\n",
    "\n",
    "    # Channel Name \n",
    "    channel_tag = video.find(\"a\", class_=\"yt-simple-endpoint style-scope yt-formatted-string\")\n",
    "    channel = channel_tag.text.strip() if channel_tag else \"Not Found\"\n",
    "\n",
    "    data.append([title, views, channel])"
   ]
  },
  {
   "cell_type": "code",
   "execution_count": 5,
   "metadata": {},
   "outputs": [
    {
     "name": "stdout",
     "output_type": "stream",
     "text": [
      "Scraping Complete! Data saved as 'youtube_finance_trending.csv'\n"
     ]
    }
   ],
   "source": [
    "# Save Data to CSV\n",
    "df = pd.DataFrame(data, columns=[\"Title\", \"Views\", \"Channel\"])\n",
    "df.to_csv(\"youtube_finance_trending.csv\", index=False)\n",
    "\n",
    "print(\"Scraping Complete! Data saved as 'youtube_finance_trending.csv'\")\n",
    "\n",
    "# Close Browser\n",
    "driver.quit()"
   ]
  }
 ],
 "metadata": {
  "kernelspec": {
   "display_name": "Python 3",
   "language": "python",
   "name": "python3"
  },
  "language_info": {
   "codemirror_mode": {
    "name": "ipython",
    "version": 3
   },
   "file_extension": ".py",
   "mimetype": "text/x-python",
   "name": "python",
   "nbconvert_exporter": "python",
   "pygments_lexer": "ipython3",
   "version": "3.9.0"
  }
 },
 "nbformat": 4,
 "nbformat_minor": 2
}
