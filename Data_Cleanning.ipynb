{
 "cells": [
  {
   "cell_type": "code",
   "execution_count": 3,
   "metadata": {},
   "outputs": [],
   "source": [
    "import pandas as pd\n",
    "\n",
    "# Load data\n",
    "df = pd.read_csv(\"youtube_finance_trending.csv\")"
   ]
  },
  {
   "cell_type": "code",
   "execution_count": 4,
   "metadata": {},
   "outputs": [
    {
     "name": "stdout",
     "output_type": "stream",
     "text": [
      "                                                Title       Views  \\\n",
      "0                         Why You Should Invest Early  64000000.0   \n",
      "1            📈 The Power of Compound Interest #shorts  64000000.0   \n",
      "2      Petrol Pump Scam⛽️ #finance #petrol #education  59000000.0   \n",
      "3   Don’t Pay Toll If Toll Plaza? #finance #money ...  53000000.0   \n",
      "4         How The Economic Machine Works by Ray Dalio  42000000.0   \n",
      "5   How much money is in your bank account?  🤔💰  #...  41000000.0   \n",
      "6   Know Your Finance Pt. 4 #financewithsharan #sh...  40000000.0   \n",
      "7   How to avoid student loans 101 👏🏾 #shorts #fin...  39000000.0   \n",
      "8   How much money is in your bank account? 🤔💰 #sh...  37000000.0   \n",
      "9   Phyno - Financial Woman (Official Music Video)...  38000000.0   \n",
      "10                              SoFi: Face of Finance  36000000.0   \n",
      "11           Employment Bond #education #finance #job  31000000.0   \n",
      "12               Finding $10,000 In Your Bank Account  25000000.0   \n",
      "13  Challan Nahi Katega #traffic #law #finance #ed...  24000000.0   \n",
      "14  This Will Make Your Poor #financewithsharan #s...  22000000.0   \n",
      "15  Petrol Pump Scam | #fuel #finance #education #...  21000000.0   \n",
      "16  How much money is in your bank account? 🤔💵 #sh...  19000000.0   \n",
      "17  Cash withdrawal from Credit Card | #finance #e...  19000000.0   \n",
      "18  The Last ₹1 Crore Plan #financewithsharan #shorts  18000000.0   \n",
      "19                                  What Is a 401(k)?  17000000.0   \n",
      "20  Finance Minister's statement on FII selling!! ...     24000.0   \n",
      "21  \"I am the Chief Minister and Finance Minister\"...       170.0   \n",
      "22  Finance Minister's statement on FII selling!! ...     15000.0   \n",
      "\n",
      "                    Channel  \n",
      "0       Finance With Sharan  \n",
      "1                  Sean Pan  \n",
      "2       Tejas Joshi Finance  \n",
      "3               Basic Gyaan  \n",
      "4   Principles by Ray Dalio  \n",
      "5              Chris Stocks  \n",
      "6       Finance With Sharan  \n",
      "7              JC Rodriguez  \n",
      "8              Chris Stocks  \n",
      "9                 PhynoFino  \n",
      "10                     SoFi  \n",
      "11      Tejas Joshi Finance  \n",
      "12              Law By Mike  \n",
      "13      Tejas Joshi Finance  \n",
      "14      Finance With Sharan  \n",
      "15              Rohit Joshi  \n",
      "16             Chris Stocks  \n",
      "17              Rohit Joshi  \n",
      "18      Finance With Sharan  \n",
      "19               Gohar Khan  \n",
      "20           Apni Pathshala  \n",
      "21             News18 India  \n",
      "22    Baaten Bazar Ki (BBK)  \n"
     ]
    }
   ],
   "source": [
    "# Function to Convert Views to Numeric\n",
    "def convert_views(view_str):\n",
    "    view_str = view_str.lower().replace(\"views\", \"\").replace(\",\", \"\").strip()\n",
    "    if \"k\" in view_str:\n",
    "        return float(view_str.replace(\"k\", \"\")) * 1_000\n",
    "    elif \"m\" in view_str:\n",
    "        return float(view_str.replace(\"m\", \"\")) * 1_000_000\n",
    "    elif \"b\" in view_str:\n",
    "        return float(view_str.replace(\"b\", \"\")) * 1_000_000_000\n",
    "    try:\n",
    "        return float(view_str)  # Direct conversion if it's already a number\n",
    "    except ValueError:\n",
    "        return None  # Return None for invalid values\n",
    "\n",
    "# Apply the Function\n",
    "df[\"Views\"] = df[\"Views\"].apply(convert_views)\n",
    "\n",
    "print(df)\n"
   ]
  },
  {
   "cell_type": "code",
   "execution_count": 5,
   "metadata": {},
   "outputs": [],
   "source": [
    "df[\"Views\"] = df[\"Views\"].astype(str).str.replace(\"views\", \"\").str.replace(\",\", \"\").astype(float)\n"
   ]
  },
  {
   "cell_type": "code",
   "execution_count": 6,
   "metadata": {},
   "outputs": [],
   "source": [
    "df[\"Title\"] = df[\"Title\"].astype(str).str.strip()\n",
    "df[\"Channel\"] = df[\"Channel\"].astype(str).str.strip()\n"
   ]
  },
  {
   "cell_type": "code",
   "execution_count": 7,
   "metadata": {},
   "outputs": [],
   "source": [
    "# Save cleaned data\n",
    "df.to_csv(\"cleaned_youtube_finance.csv\", index=False)"
   ]
  },
  {
   "cell_type": "code",
   "execution_count": 8,
   "metadata": {},
   "outputs": [
    {
     "name": "stdout",
     "output_type": "stream",
     "text": [
      "                                               Title       Views  \\\n",
      "0                        Why You Should Invest Early  64000000.0   \n",
      "1           📈 The Power of Compound Interest #shorts  64000000.0   \n",
      "2     Petrol Pump Scam⛽️ #finance #petrol #education  59000000.0   \n",
      "3  Don’t Pay Toll If Toll Plaza? #finance #money ...  53000000.0   \n",
      "4        How The Economic Machine Works by Ray Dalio  42000000.0   \n",
      "\n",
      "                   Channel  \n",
      "0      Finance With Sharan  \n",
      "1                 Sean Pan  \n",
      "2      Tejas Joshi Finance  \n",
      "3              Basic Gyaan  \n",
      "4  Principles by Ray Dalio  \n"
     ]
    }
   ],
   "source": [
    "print(df.head())  # Show cleaned data"
   ]
  },
  {
   "cell_type": "code",
   "execution_count": null,
   "metadata": {},
   "outputs": [],
   "source": []
  }
 ],
 "metadata": {
  "kernelspec": {
   "display_name": "Python 3",
   "language": "python",
   "name": "python3"
  },
  "language_info": {
   "codemirror_mode": {
    "name": "ipython",
    "version": 3
   },
   "file_extension": ".py",
   "mimetype": "text/x-python",
   "name": "python",
   "nbconvert_exporter": "python",
   "pygments_lexer": "ipython3",
   "version": "3.9.0"
  }
 },
 "nbformat": 4,
 "nbformat_minor": 2
}
